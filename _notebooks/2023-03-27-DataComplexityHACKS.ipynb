{
 "cells": [
  {
   "attachments": {},
   "cell_type": "markdown",
   "metadata": {},
   "source": [
    "#  Data Structures- Space and Time Complexity\n",
    "> Observing the time complexity of different algorithms\n",
    "- toc: true\n",
    "- image: /images/python.png\n",
    "- categories: []\n",
    "- type: pbl\n",
    "- week: 27"
   ]
  },
  {
   "attachments": {},
   "cell_type": "markdown",
   "metadata": {},
   "source": [
    "# Hacks\n",
    "\n",
    "Record your findings when testing the time elapsed of the different algorithms.\n",
    "\n",
    "**Each algorithm took a different amount of time to test. Some of these algorithms would have broken my computer if they hadn't been stopped.**\n",
    "\n",
    "Although we will go more in depth later, time complexity is a key concept that relates to the different sorting algorithms. Do some basic research on the different types of sorting algorithms and their time complexity.\n",
    "\n",
    "**There are many  sorting algorithms and each  is more efficient than the other. Some  sorting algorithms include  insertion sort, bubble sort, selection sort, merge sort, bulk sort and quick sort algorithm. Out of these 6, the 3 most efficient sorting algorithms are  merge sort, bulk sort and quick sort.**\n",
    "\n",
    "Why is time and space complexity important when choosing an algorithm?\n",
    "\n",
    "**Time complexity is important when choosing an algorithm because you want an algorithm that can be easily run without taking too much time to produce results. Spatial complexity is also important because you need an algorithm that can handle large amounts of data.**\n",
    "\n",
    "Should you always use a constant time algorithm / Should you never use an exponential time algorithm? Explain?\n",
    "\n",
    "**Constant time algorithms can be good most of the time, but they should not always be used, as there may be algorithms that can take  even less time. I would almost never use an exponential time algorithm because they are almost always incredibly inefficient. For 512 inputs, the linear algorithm can take 512 seconds, while the exponential algorithm takes 1.34 x 10^154 seconds.**\n",
    "\n",
    "What are some general patterns that you noticed to determine each algorithm’s time and space complexity\n",
    "\n",
    "**Time complexity is essentially determined by how long an algorithm takes depending on the number of inputs to the algorithm. The space complexity is defined by f(N), where N is the size of the input data.**\n",
    "\n",
    "Complete the Time and Space Complexity analysis questions linked below.\n",
    "[Practice](https://www.geeksforgeeks.org/practice-questions-time-complexity-analysis/)\n",
    "\n",
    "**Finished**"
   ]
  }
 ],
 "metadata": {
  "language_info": {
   "name": "python"
  },
  "orig_nbformat": 4
 },
 "nbformat": 4,
 "nbformat_minor": 2
}
