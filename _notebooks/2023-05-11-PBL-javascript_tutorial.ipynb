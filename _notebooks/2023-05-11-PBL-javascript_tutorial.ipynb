{
 "cells": [
  {
   "cell_type": "markdown",
   "metadata": {},
   "source": [
    "# JavaScript Tutorial\n",
    "> Quick launch into Variables, Functions, Arrays, Classes, HTML.\n",
    "\n",
    "- layout: default\n",
    "- toc: true\n",
    "- badges: false\n",
    "- week: 33"
   ]
  },
  {
   "cell_type": "markdown",
   "metadata": {
    "chatgpt_cell": "query",
    "chatgpt_language": "javascript",
    "chatgpt_thread": ""
   },
   "source": [
    "##### chat\n",
    "\n",
    "asked this to ChatGPT-- \"write a javascript program that says hi to me\""
   ]
  },
  {
   "cell_type": "markdown",
   "metadata": {},
   "source": []
  },
  {
   "cell_type": "markdown",
   "metadata": {},
   "source": [
    "## Hacks\n",
    "> One key to these hacks is to build confidence with me going into final grade, I would like to see each student adapt this frontend work in their final project.  Second key is the finished work can serve as review for the course, notes for the future in relationship to frontend.\n",
    "- Adapt this tutorial to your own work\n",
    "- Consider what you need to work on to be stronger developer\n",
    "- Show something creative or unique, no cloning\n",
    "- Be ready to talk to Teacher for 5 to 10 minutes. Individually!!!\n",
    "- Show in Jupyter Notebook during discussion, show Theme and ChatGPT\n",
    "- Have a runtime final in GithHub Pages (or Fastpage)"
   ]
  },
  {
   "cell_type": "markdown",
   "metadata": {},
   "source": [
    "%%html\n",
    "<html>\n",
    "    <head>\n",
    "        <style>\n",
    "             {\n",
    "                background-color: #42e3f5;\n",
    "                padding: 8px;\n",
    "                border: 1px solid #ccc;\n",
    "            }\n",
    "        </style>\n",
    "    </head>\n",
    "    <body>\n",
    "        <div id=\"output\">\n",
    "            Hello World.\n",
    "        </div>\n",
    "    </body>\n",
    "</html>"
   ]
  },
  {
   "cell_type": "markdown",
   "metadata": {},
   "source": [
    "## Output using element.append(...)"
   ]
  },
  {
   "cell_type": "code",
   "execution_count": 2,
   "metadata": {},
   "outputs": [
    {
     "data": {
      "application/javascript": [
       "//https://developer.mozilla.org/en-US/docs/Web/API/Element/append\n",
       "//The Element.append() method inserts a set of Node (new elements on html page) objects or string objects after the last child of the Element\n",
       "element.append(\"<i>Hello there!</i>\"); // Obi-wan's favorite opening line\n",
       "element.append(\"<br>\");\n",
       "\n",
       "element.append(\"I have the high ground.\");\n",
       "element.append(\"<br>\");\n",
       "element.append(\"You were the <b>chosen one!</b> It was said that you would destroy the Sith, <b>not join them!</b> Bring balance to the force... <i>not leave it in darkness!</i>\");\n"
      ],
      "text/plain": [
       "<IPython.core.display.Javascript object>"
      ]
     },
     "metadata": {},
     "output_type": "display_data"
    }
   ],
   "source": [
    "%%js // required to allow cell to be JavaScript enabled\n",
    "//https://developer.mozilla.org/en-US/docs/Web/API/Element/append\n",
    "//The Element.append() method inserts a set of Node (new elements on html page) objects or string objects after the last child of the Element\n",
    "element.append(\"<i>Hello there!</i>\"); // Obi-wan's favorite opening line\n",
    "element.append(\"<br>\");\n",
    "\n",
    "element.append(\"I have the high ground.\");\n",
    "element.append(\"<br>\");\n",
    "element.append(\"You were the <b>chosen one!</b> It was said that you would destroy the Sith, <b>not join them!</b> Bring balance to the force... <i>not leave it in darkness!</i>\");\n"
   ]
  },
  {
   "cell_type": "markdown",
   "metadata": {},
   "source": [
    "## Multiple Outputs using One Variable"
   ]
  },
  {
   "cell_type": "code",
   "execution_count": 1,
   "metadata": {},
   "outputs": [
    {
     "data": {
      "application/javascript": [
       "// this example shows how a single javascript variable / constant can be used to log console output and also show on page\n",
       "console.log(\"Multiple Outputs Using One Variable\");\n",
       "\n",
       "//define const if value will not change\n",
       "const msg = \"You were my brother, Anakin! I loved you!\";\n",
       "\n",
       "// Use msg to output code to Console and Jupyter Notebook\n",
       "console.log(msg);  //Open Developer tools and view console or just Control+Shift+I and click on Console\n",
       "// this will add the msg to the page\n",
       "element.text(msg);\n",
       "\n",
       "// sometimes the console might not be avaiable, so it might be a good idea to check for console\n",
       "if (window.console) {\n",
       "    console.log(msg);\n",
       "}\n"
      ],
      "text/plain": [
       "<IPython.core.display.Javascript object>"
      ]
     },
     "metadata": {},
     "output_type": "display_data"
    }
   ],
   "source": [
    "%%js\n",
    "// this example shows how a single javascript variable / constant can be used to log console output and also show on page\n",
    "console.log(\"Multiple Outputs Using One Variable\");\n",
    "\n",
    "//define const if value will not change\n",
    "const msg = \"You were my brother, Anakin! I loved you!\";\n",
    "\n",
    "// Use msg to output code to Console and Jupyter Notebook\n",
    "console.log(msg);  //Open Developer tools and view console or just Control+Shift+I and click on Console\n",
    "// this will add the msg to the page\n",
    "element.text(msg);\n",
    "\n",
    "// sometimes the console might not be avaiable, so it might be a good idea to check for console\n",
    "if (window.console) {\n",
    "    console.log(msg);\n",
    "}\n"
   ]
  },
  {
   "cell_type": "markdown",
   "metadata": {},
   "source": [
    "## Building a Premier Legue Soccer Player Object and JSON"
   ]
  },
  {
   "cell_type": "code",
   "execution_count": 3,
   "metadata": {},
   "outputs": [
    {
     "data": {
      "text/html": [
       "<!-- load jQuery and tablesorter scripts -->\n",
       "<html>\n",
       "    <head>\n",
       "        <!-- load jQuery and tablesorter scripts -->\n",
       "        <script src=\"https://ajax.googleapis.com/ajax/libs/jquery/3.6.0/jquery.min.js\"></script>\n",
       "        <script src=\"https://cdnjs.cloudflare.com/ajax/libs/jquery.tablesorter/2.31.3/js/jquery.tablesorter.min.js\"></script>\n",
       "    </head>\n",
       "\n",
       "    <body>\n",
       "        <table id=\"jsonTable\">\n",
       "            <thead>\n",
       "                <tr>\n",
       "                    <th>PL PLAYER JSON Data</th>\n",
       "                </tr>\n",
       "            </thead>\n",
       "            <tbody>\n",
       "                <tr>\n",
       "                    <td id=\"jsonText\">{\n",
       "                        \"player\": [\n",
       "                          {\n",
       "                            \"name\": \"Mohamed Salah\",\n",
       "                            \"team\": \"Liverpool FC\",\n",
       "                            \"age\": 30,\n",
       "                            \"goals\": 50,\n",
       "                            \"games\": 45\n",
       "                          },\n",
       "                          {\n",
       "                            \"name\": \"Bukayo Saka\",\n",
       "                            \"team\": \"England National Soccer Team\",\n",
       "                            \"age\": 27,\n",
       "                            \"goals\": 32,\n",
       "                            \"games\": 98\n",
       "                          },\n",
       "                        ]\n",
       "                      }\n",
       "                      </td>\n",
       "                </tr>\n",
       "            </tbody>\n",
       "        </table>\n",
       "\n",
       "    </body>\n",
       "</html>\n"
      ],
      "text/plain": [
       "<IPython.core.display.HTML object>"
      ]
     },
     "metadata": {},
     "output_type": "display_data"
    }
   ],
   "source": [
    "%%html\n",
    "<!-- load jQuery and tablesorter scripts -->\n",
    "<html>\n",
    "    <head>\n",
    "        <!-- load jQuery and tablesorter scripts -->\n",
    "        <script src=\"https://ajax.googleapis.com/ajax/libs/jquery/3.6.0/jquery.min.js\"></script>\n",
    "        <script src=\"https://cdnjs.cloudflare.com/ajax/libs/jquery.tablesorter/2.31.3/js/jquery.tablesorter.min.js\"></script>\n",
    "    </head>\n",
    "\n",
    "    <body>\n",
    "        <table id=\"jsonTable\">\n",
    "            <thead>\n",
    "                <tr>\n",
    "                    <th>PL PLAYER JSON Data</th>\n",
    "                </tr>\n",
    "            </thead>\n",
    "            <tbody>\n",
    "                <tr>\n",
    "                    <td id=\"jsonText\">{\n",
    "                        \"player\": [\n",
    "                          {\n",
    "                            \"name\": \"Mohamed Salah\",\n",
    "                            \"team\": \"Liverpool FC\",\n",
    "                            \"age\": 30,\n",
    "                            \"goals\": 50,\n",
    "                            \"games\": 45\n",
    "                          },\n",
    "                          {\n",
    "                            \"name\": \"Bukayo Saka\",\n",
    "                            \"team\": \"England National Soccer Team\",\n",
    "                            \"age\": 27,\n",
    "                            \"goals\": 32,\n",
    "                            \"games\": 98\n",
    "                          },\n",
    "                        ]\n",
    "                      }\n",
    "                      </td>\n",
    "                </tr>\n",
    "            </tbody>\n",
    "        </table>\n",
    "\n",
    "    </body>\n",
    "</html>"
   ]
  },
  {
   "cell_type": "code",
   "execution_count": 5,
   "metadata": {},
   "outputs": [
    {
     "data": {
      "application/javascript": [
       "// create a Premier League Player Class\n",
       "// Name | Team | Age | Goals | Games\n",
       "class PLPlayer {\n",
       "  constructor(name, team, age, goals, games) {\n",
       "    this.name = name;\n",
       "    this.team = team;\n",
       "    this.age = age;\n",
       "    this.goals = goals;\n",
       "    this.games = games;\n",
       "  }\n",
       "\n",
       "    // converts the object to JSON object\n",
       "  getJSON() {\n",
       "    const jsonString = {\n",
       "      name: this.name,\n",
       "      team: this.team,\n",
       "      age: this.age,\n",
       "      goals: this.goals,\n",
       "      games: this.games\n",
       "     \n",
       "    };\n",
       "    const jsonObject = JSON.stringify(jsonString);\n",
       "    return jsonObject;\n",
       "  }\n",
       "\n",
       "// method to log the json string to console and show the output on the page\n",
       "  showPLPlayer() {\n",
       "      if (window.console) {\n",
       "        console.info(this);\n",
       "      }\n",
       "      element.append(this.getJSON());\n",
       "  }\n",
       "}\n",
       "\n",
       "const player1Data = {\n",
       "    \"name\": \"Mohamed Salah\",\n",
       "    \"team\": \"Liverpool FC\",\n",
       "    \"age\": 30,\n",
       "    \"goals\": 50,\n",
       "    \"games\": 45\n",
       "};\n",
       "\n",
       "const player1 = new PLPlayer(\n",
       "    player1Data.name,\n",
       "    player1Data.team,\n",
       "    player1Data.age,\n",
       "    player1Data.goals,\n",
       "    player1Data.games\n",
       ");\n",
       "\n",
       "player1.showPLPlayer();\n"
      ],
      "text/plain": [
       "<IPython.core.display.Javascript object>"
      ]
     },
     "metadata": {},
     "output_type": "display_data"
    }
   ],
   "source": [
    "%%js\n",
    "// create a Premier League Player Class\n",
    "// Name | Team | Age | Goals | Games\n",
    "class PLPlayer {\n",
    "  constructor(name, team, age, goals, games) {\n",
    "    this.name = name;\n",
    "    this.team = team;\n",
    "    this.age = age;\n",
    "    this.goals = goals;\n",
    "    this.games = games;\n",
    "  }\n",
    "\n",
    "    // converts the object to JSON object\n",
    "  getJSON() {\n",
    "    const jsonString = {\n",
    "      name: this.name,\n",
    "      team: this.team,\n",
    "      age: this.age,\n",
    "      goals: this.goals,\n",
    "      games: this.games\n",
    "     \n",
    "    };\n",
    "    const jsonObject = JSON.stringify(jsonString);\n",
    "    return jsonObject;\n",
    "  }\n",
    "\n",
    "// method to log the json string to console and show the output on the page\n",
    "  showPLPlayer() {\n",
    "      if (window.console) {\n",
    "        console.info(this);\n",
    "      }\n",
    "      element.append(this.getJSON());\n",
    "  }\n",
    "}\n",
    "\n",
    "const player1Data = {\n",
    "    \"name\": \"Mohamed Salah\",\n",
    "    \"team\": \"Liverpool FC\",\n",
    "    \"age\": 30,\n",
    "    \"goals\": 50,\n",
    "    \"games\": 45\n",
    "};\n",
    "\n",
    "const player1 = new PLPlayer(\n",
    "    player1Data.name,\n",
    "    player1Data.team,\n",
    "    player1Data.age,\n",
    "    player1Data.goals,\n",
    "    player1Data.games\n",
    ");\n",
    "\n",
    "player1.showPLPlayer();"
   ]
  },
  {
   "cell_type": "markdown",
   "metadata": {},
   "source": [
    "## Project Usage: JavaScript Sorting"
   ]
  },
  {
   "cell_type": "code",
   "execution_count": 4,
   "metadata": {
    "scrolled": true
   },
   "outputs": [
    {
     "data": {
      "text/html": [
       "# defines the tableID that is going to be referred to in the future\n",
       "<table id=\"sportsTable\">\n",
       "    <thead>\n",
       "      <tr>\n",
       "        # these are the sortTable functions for each of the columns. the onclick allows for on click of the table header. \n",
       "        <th onclick=\"sortTable('name')\">Name</th>\n",
       "        <th onclick=\"sortTable('team')\">Team</th>\n",
       "        <th onclick=\"sortTable('age')\">Age</th>\n",
       "        <th onclick=\"sortTable('goals')\">Goals</th>\n",
       "        <th onclick=\"sortTable('games')\">Games</th>\n",
       "      </tr>\n",
       "    </thead>\n",
       "    <tbody>\n",
       "    # sample data following on frontend, just for demo.\n",
       "      <tr>\n",
       "        <td>Mo Salah</td>\n",
       "        <td>Liverpool</td>\n",
       "        <td>30</td>\n",
       "        <td>50</td>\n",
       "        <td>45</td>\n",
       "      </tr>\n",
       "      <tr>\n",
       "        <td>Player2</td>\n",
       "        <td>Team2</td>\n",
       "        <td>29</td>\n",
       "        <td>6</td>\n",
       "        <td>55</td>\n",
       "      </tr>\n",
       "  </table>\n",
       "  \n",
       "  <script>\n",
       "    // sortTable function meant to sort based on each column header.\n",
       "    function getColumnIndex(columnName) {\n",
       "      // each column name is taken in columnName to get its index.\n",
       "      const table = document.getElementById('sportsTable');\n",
       "      const headerRow = table.getElementsByTagName('thead')[0].getElementsByTagName('tr')[0];\n",
       "      // contains the column headers, index 0\n",
       "      const headers = Array.from(headerRow.getElementsByTagName('th'));\n",
       "      return headers.findIndex(header => header.innerText.toLowerCase() === columnName.toLowerCase()) + 1;\n",
       "      // converts column header names to lowercase to account for sortTable definitions\n",
       "    }\n",
       "    \n",
       "function sortTable(columnName) {\n",
       "  const table = document.getElementById('sportsTable');\n",
       "  // constant calls the tableID that was previously defined\n",
       "  const rows = Array.from(table.tBodies[0].getElementsByTagName('tr'));\n",
       "  const headerRow = table.getElementsByTagName('thead')[0].getElementsByTagName('tr')[0];\n",
       "  const isAscending = !headerRow.classList.contains('asc');\n",
       "  // this is a very important line - the asc class helps the function decide whether or not the column is going to be sorted in increasing order or decreasing order.\n",
       "  \n",
       "  rows.sort((rowA, rowB) => {\n",
       "    let cellA = rowA.querySelector(`td:nth-child(${getColumnIndex(columnName)})`).innerText;\n",
       "    let cellB = rowB.querySelector(`td:nth-child(${getColumnIndex(columnName)})`).innerText;\n",
       "    // the nth-child selector is different from normal JS arrays, these have an index starting at 1 rather than 0\n",
       "    // the rows are sorted based on the column. getColumnIndex is used to get the index of the column. \n",
       "\n",
       "    if (columnName.toLowerCase() === 'name' || columnName.toLowerCase() === 'team') {\n",
       "      return isAscending ? cellA.localeCompare(cellB, undefined, { sensitivity: 'base' }) : cellB.localeCompare(cellA, undefined, { sensitivity: 'base' });\n",
       "    }\n",
       "    \n",
       "    // these were for special situations. the name and team columns were not sorting properly, so the localeCompare was used to sort the rows alphabetically. \n",
       "\n",
       "    // Convert the cell values to numbers for the \"Games Played\" column\n",
       "    if (columnName.toLowerCase() === 'games played') {\n",
       "      cellA = parseInt(cellA);\n",
       "      cellB = parseInt(cellB);\n",
       "    }\n",
       "    \n",
       "    // games played was not sorting for some odd reason, which is why this if statement was added.\n",
       "    // purpose is to parse the values as an integer and then sort numerically. \n",
       "    \n",
       "    return isAscending ? cellA - cellB : cellB - cellA;\n",
       "  });\n",
       "  \n",
       "  rows.forEach(row => table.tBodies[0].appendChild(row));\n",
       "  headerRow.classList.toggle('asc');\n",
       "  // this is meant for after sorting. after the sorting is done, the appendChild is meant to append these cell values back into the specified table.\n",
       "}\n",
       "\n",
       "  </script>\n"
      ],
      "text/plain": [
       "<IPython.core.display.HTML object>"
      ]
     },
     "metadata": {},
     "output_type": "display_data"
    }
   ],
   "source": [
    "%%html\n",
    "# defines the tableID that is going to be referred to in the future\n",
    "<table id=\"sportsTable\">\n",
    "    <thead>\n",
    "      <tr>\n",
    "        # these are the sortTable functions for each of the columns. the onclick allows for on click of the table header. \n",
    "        <th onclick=\"sortTable('name')\">Name</th>\n",
    "        <th onclick=\"sortTable('team')\">Team</th>\n",
    "        <th onclick=\"sortTable('age')\">Age</th>\n",
    "        <th onclick=\"sortTable('goals')\">Goals</th>\n",
    "        <th onclick=\"sortTable('games')\">Games</th>\n",
    "      </tr>\n",
    "    </thead>\n",
    "    <tbody>\n",
    "    # sample data following on frontend, just for demo.\n",
    "      <tr>\n",
    "        <td>Mo Salah</td>\n",
    "        <td>Liverpool</td>\n",
    "        <td>30</td>\n",
    "        <td>50</td>\n",
    "        <td>45</td>\n",
    "      </tr>\n",
    "      <tr>\n",
    "        <td>Player2</td>\n",
    "        <td>Team2</td>\n",
    "        <td>29</td>\n",
    "        <td>6</td>\n",
    "        <td>55</td>\n",
    "      </tr>\n",
    "  </table>\n",
    "  \n",
    "  <script>\n",
    "    // sortTable function meant to sort based on each column header.\n",
    "    function getColumnIndex(columnName) {\n",
    "      // each column name is taken in columnName to get its index.\n",
    "      const table = document.getElementById('sportsTable');\n",
    "      const headerRow = table.getElementsByTagName('thead')[0].getElementsByTagName('tr')[0];\n",
    "      // contains the column headers, index 0\n",
    "      const headers = Array.from(headerRow.getElementsByTagName('th'));\n",
    "      return headers.findIndex(header => header.innerText.toLowerCase() === columnName.toLowerCase()) + 1;\n",
    "      // converts column header names to lowercase to account for sortTable definitions\n",
    "    }\n",
    "    \n",
    "function sortTable(columnName) {\n",
    "  const table = document.getElementById('sportsTable');\n",
    "  // constant calls the tableID that was previously defined\n",
    "  const rows = Array.from(table.tBodies[0].getElementsByTagName('tr'));\n",
    "  const headerRow = table.getElementsByTagName('thead')[0].getElementsByTagName('tr')[0];\n",
    "  const isAscending = !headerRow.classList.contains('asc');\n",
    "  // this is a very important line - the asc class helps the function decide whether or not the column is going to be sorted in increasing order or decreasing order.\n",
    "  \n",
    "  rows.sort((rowA, rowB) => {\n",
    "    let cellA = rowA.querySelector(`td:nth-child(${getColumnIndex(columnName)})`).innerText;\n",
    "    let cellB = rowB.querySelector(`td:nth-child(${getColumnIndex(columnName)})`).innerText;\n",
    "    // the nth-child selector is different from normal JS arrays, these have an index starting at 1 rather than 0\n",
    "    // the rows are sorted based on the column. getColumnIndex is used to get the index of the column. \n",
    "\n",
    "    if (columnName.toLowerCase() === 'name' || columnName.toLowerCase() === 'team') {\n",
    "      return isAscending ? cellA.localeCompare(cellB, undefined, { sensitivity: 'base' }) : cellB.localeCompare(cellA, undefined, { sensitivity: 'base' });\n",
    "    }\n",
    "    \n",
    "\n",
    "    // Convert the cell values to numbers \n",
    "      cellA = parseInt(cellA);\n",
    "      cellB = parseInt(cellB);\n",
    "    \n",
    "    \n",
    "    return isAscending ? cellA - cellB : cellB - cellA;\n",
    "  });\n",
    "  \n",
    "  rows.forEach(row => table.tBodies[0].appendChild(row));\n",
    "  headerRow.classList.toggle('asc');\n",
    "  // this is meant for after sorting. after the sorting is done, the appendChild is meant to append these cell values back into the specified table.\n",
    "}\n",
    "\n",
    "  </script>"
   ]
  },
  {
   "cell_type": "markdown",
   "metadata": {},
   "source": [
    "## My Goals"
   ]
  },
  {
   "cell_type": "markdown",
   "metadata": {},
   "source": [
    "Shaurya's goals for CSA and programming in general"
   ]
  }
 ],
 "metadata": {
  "kernelspec": {
   "display_name": "Python 3 (ipykernel)",
   "language": "python",
   "name": "python3"
  },
  "language_info": {
   "codemirror_mode": {
    "name": "ipython",
    "version": 3
   },
   "file_extension": ".py",
   "mimetype": "text/x-python",
   "name": "python",
   "nbconvert_exporter": "python",
   "pygments_lexer": "ipython3",
   "version": "3.10.6"
  }
 },
 "nbformat": 4,
 "nbformat_minor": 2
}
