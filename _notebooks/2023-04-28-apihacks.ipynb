{
 "cells": [
  {
   "attachments": {},
   "cell_type": "markdown",
   "metadata": {},
   "source": [
    "# API HACKS\n",
    "> API HACKS\n",
    "- toc: true"
   ]
  },
  {
   "attachments": {},
   "cell_type": "markdown",
   "metadata": {},
   "source": [
    "Take this python table and use a minimum of 3 pandas functions to analyze the data\n",
    "\n"
   ]
  },
  {
   "cell_type": "code",
   "execution_count": 1,
   "metadata": {},
   "outputs": [
    {
     "name": "stdout",
     "output_type": "stream",
     "text": [
      "     Name  Age Gender Grade\n",
      "0  Dillon   24      M     A\n",
      "1    Noor   31      M     B\n",
      "2  Steven   42      M     A\n",
      "3   Lucas   27      M     D\n",
      "4  Harsha   29      F     C\n",
      "5  Varalu   26      F     F\n",
      "6    Ryan   90      F     B\n",
      "7   Emaad   15      F     A\n"
     ]
    }
   ],
   "source": [
    "import pandas as pd\n",
    "data = {\n",
    "    'Name': ['Dillon', 'Noor', 'Steven', 'Lucas', 'Harsha', 'Varalu', 'Ryan', 'Emaad'],\n",
    "    'Age': [24, 31, 42, 27, 29, 26, 90, 15],\n",
    "    'Gender': ['M', 'M', 'M', 'M', 'F', 'F', 'F', 'F'],\n",
    "    'Grade': ['A', 'B', 'A', 'D', 'C', 'F', 'B', 'A']\n",
    "}\n",
    "df = pd.DataFrame(data)\n",
    "print(df)"
   ]
  },
  {
   "cell_type": "code",
   "execution_count": 2,
   "metadata": {},
   "outputs": [
    {
     "name": "stdout",
     "output_type": "stream",
     "text": [
      "             Age\n",
      "count   8.000000\n",
      "mean   35.500000\n",
      "std    23.268618\n",
      "min    15.000000\n",
      "25%    25.500000\n",
      "50%    28.000000\n",
      "75%    33.750000\n",
      "max    90.000000\n",
      "Gender\n",
      "F    40.0\n",
      "M    31.0\n",
      "Name: Age, dtype: float64\n",
      "A    3\n",
      "B    2\n",
      "D    1\n",
      "C    1\n",
      "F    1\n",
      "Name: Grade, dtype: int64\n"
     ]
    }
   ],
   "source": [
    "import pandas as pd\n",
    "\n",
    "# Define the table\n",
    "data = {\n",
    "    'Name': ['Dillon', 'Noor', 'Steven', 'Lucas', 'Harsha', 'Varalu', 'Ryan', 'Emaad'],\n",
    "    'Age': [24, 31, 42, 27, 29, 26, 90, 15],\n",
    "    'Gender': ['M', 'M', 'M', 'M', 'F', 'F', 'F', 'F'],\n",
    "    'Grade': ['A', 'B', 'A', 'D', 'C', 'F', 'B', 'A']\n",
    "}\n",
    "df = pd.DataFrame(data)\n",
    "\n",
    "# Use the describe() function to get summary statistics\n",
    "print(df.describe())\n",
    "\n",
    "# Use the groupby() function to group the data by gender and calculate the mean age\n",
    "print(df.groupby('Gender')['Age'].mean())\n",
    "\n",
    "# Use the value_counts() function to count the number of each grade\n",
    "print(df['Grade'].value_counts())"
   ]
  },
  {
   "attachments": {},
   "cell_type": "markdown",
   "metadata": {},
   "source": [
    "Here's a brief explanation of what each function does:\n",
    "\n",
    "describe() - This function provides summary statistics for each column in the table, such as the count, mean, standard deviation, minimum value, maximum value, and quartiles.\n",
    "\n",
    "groupby() - This function allows you to group the data by a specific column (in this case, 'Gender'), and then perform calculations on the grouped data (in this case, the mean age for each gender).\n",
    "\n",
    "value_counts() - This function counts the number of occurrences of each unique value in a column (in this case, the number of each grade)."
   ]
  }
 ],
 "metadata": {
  "kernelspec": {
   "display_name": "Python 3",
   "language": "python",
   "name": "python3"
  },
  "language_info": {
   "codemirror_mode": {
    "name": "ipython",
    "version": 3
   },
   "file_extension": ".py",
   "mimetype": "text/x-python",
   "name": "python",
   "nbconvert_exporter": "python",
   "pygments_lexer": "ipython3",
   "version": "3.10.11"
  },
  "orig_nbformat": 4
 },
 "nbformat": 4,
 "nbformat_minor": 2
}
