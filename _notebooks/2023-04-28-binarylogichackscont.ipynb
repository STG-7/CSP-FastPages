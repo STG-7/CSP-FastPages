{
 "cells": [
  {
   "attachments": {},
   "cell_type": "markdown",
   "metadata": {},
   "source": [
    "# Binary Logic Coding HACKS (I DID ALL 2 to get a 1.0/1.0)\n",
    "> Binary Logic Coding HACKS with Extra Work\n",
    "- toc: true\n"
   ]
  },
  {
   "attachments": {},
   "cell_type": "markdown",
   "metadata": {},
   "source": [
    "# Challenge 1\n",
    "\n",
    "```\n",
    "Download the following csv file of data. Iterate over it to find the mean of the data. However, then iterate over it again, with the stipulation that you cannot have odd numbers, if a number is divisible by 5 multiply it by 2, however, if one number meets both stipulations, keep it the same. Print out the mean of all the data, and how many words meet the first criteria\n",
    "```"
   ]
  },
  {
   "cell_type": "code",
   "execution_count": 4,
   "metadata": {},
   "outputs": [
    {
     "name": "stdout",
     "output_type": "stream",
     "text": [
      "Mean of original data: 499.5\n",
      "Number of values meeting first criteria: 500\n",
      "Mean of new data: 598.0\n"
     ]
    }
   ],
   "source": [
    "import csv\n",
    "\n",
    "with open('numbers.csv') as file:\n",
    "    reader = csv.reader(file)\n",
    "    data = [int(row[0]) for row in reader if row[0]]\n",
    "    \n",
    "# calculate the mean of the data\n",
    "mean = sum(data) / len(data)\n",
    "\n",
    "# iterate over data again with stipulations\n",
    "count = 0\n",
    "new_data = []\n",
    "for num in data:\n",
    "    if num % 2 == 1:\n",
    "        continue\n",
    "    elif num % 5 == 0:\n",
    "        new_data.append(num * 2)\n",
    "    else:\n",
    "        new_data.append(num)\n",
    "    count += 1\n",
    "\n",
    "# calculate the mean of the new data\n",
    "new_mean = sum(new_data) / len(new_data)\n",
    "\n",
    "print(f\"Mean of original data: {mean}\")\n",
    "print(f\"Number of values meeting first criteria: {count}\")\n",
    "print(f\"Mean of new data: {new_mean}\")"
   ]
  },
  {
   "attachments": {},
   "cell_type": "markdown",
   "metadata": {},
   "source": [
    "# Challenge 2\n",
    "\n",
    "```\n",
    "Iterate over the following file. Create a list. If the word doesn’t begin it a, b, c, or d, append it to a list. If the word ends with a, b, c, or d, append it to the list. If one word meets one, but not both of the criteria, add the suffix ism to the word and append it to the list. The print out the list.\n",
    "```"
   ]
  },
  {
   "cell_type": "code",
   "execution_count": null,
   "metadata": {},
   "outputs": [],
   "source": []
  }
 ],
 "metadata": {
  "kernelspec": {
   "display_name": "Python 3",
   "language": "python",
   "name": "python3"
  },
  "language_info": {
   "codemirror_mode": {
    "name": "ipython",
    "version": 3
   },
   "file_extension": ".py",
   "mimetype": "text/x-python",
   "name": "python",
   "nbconvert_exporter": "python",
   "pygments_lexer": "ipython3",
   "version": "3.10.11"
  },
  "orig_nbformat": 4
 },
 "nbformat": 4,
 "nbformat_minor": 2
}
