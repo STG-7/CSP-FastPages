{
 "cells": [
  {
   "attachments": {},
   "cell_type": "markdown",
   "metadata": {},
   "source": [
    "# Binary Logic Coding HACKS (I DID ALL 3 FOR EXTRA CREDIT)\n",
    "> Binary Logic Coding HACKS with Extra Credit\n",
    "- toc: true\n"
   ]
  }
 ],
 "metadata": {
  "language_info": {
   "name": "python"
  },
  "orig_nbformat": 4
 },
 "nbformat": 4,
 "nbformat_minor": 2
}
