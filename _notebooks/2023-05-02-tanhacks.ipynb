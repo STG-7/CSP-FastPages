{
 "cells": [
  {
   "attachments": {},
   "cell_type": "markdown",
   "metadata": {},
   "source": [
    "# Building Simulation/Interaction HACKS\n",
    "> Finishing all the Building Simulation/Interaction HACKS and doing the Extra Credit\n",
    "- toc: true \n",
    "- badges: true\n",
    "- comments: true\n",
    "- categories: [jupyter, week-28]"
   ]
  },
  {
   "attachments": {},
   "cell_type": "markdown",
   "metadata": {},
   "source": [
    "# (0.1 points) Create a visual or written description. Objective is to compare lists and dictionaries.\n",
    "\n",
    "Lists and dictionaries are two commonly used data structures in programming, each with their own unique characteristics and purposes.\n",
    "\n",
    "A list is an ordered collection of values or objects that can be accessed by their index, which is an integer starting from zero. Lists are mutable, which means their contents can be changed by adding, removing, or modifying elements. A list is typically represented by square brackets [] in Python.\n",
    "\n",
    "On the other hand, a dictionary is an unordered collection of key-value pairs, where each key is unique and maps to a value. Dictionaries are mutable and can be changed by adding, removing, or modifying key-value pairs. A dictionary is typically represented by curly braces {} in Python.\n",
    "\n",
    "To visualize the difference between lists and dictionaries, imagine a library. The books on the shelves can be thought of as a list, where each book is identified by its position in the list. In contrast, a librarian's catalog of the books can be thought of as a dictionary, where each book is identified by its unique call number.\n",
    "\n",
    "Here is an example in Python:"
   ]
  },
  {
   "cell_type": "code",
   "execution_count": 1,
   "metadata": {},
   "outputs": [
    {
     "name": "stdout",
     "output_type": "stream",
     "text": [
      "apple\n",
      "John\n"
     ]
    }
   ],
   "source": [
    "# Example of a list\n",
    "fruits = [\"apple\", \"banana\", \"cherry\"]\n",
    "print(fruits[0])   # Output: \"apple\"\n",
    "\n",
    "# Example of a dictionary\n",
    "person = {\"name\": \"John\", \"age\": 30, \"city\": \"New York\"}\n",
    "print(person[\"name\"])   # Output: \"John\""
   ]
  },
  {
   "attachments": {},
   "cell_type": "markdown",
   "metadata": {},
   "source": [
    "In the above example, fruits is a list with three elements, where \"apple\" is at index 0. person is a dictionary with three key-value pairs, where \"name\" maps to \"John\"."
   ]
  },
  {
   "attachments": {},
   "cell_type": "markdown",
   "metadata": {},
   "source": [
    "# (0.3 points) Create your own dictionary/list and use sorting algorithms to perform operations on them. (Use playlist maker as an example of what we expect ~ Make something creative and useful)\n",
    "\n"
   ]
  },
  {
   "attachments": {},
   "cell_type": "markdown",
   "metadata": {},
   "source": [
    "# (0.3 points) Build your own simulation such as a random number generator or slot machine (Try using a list!)\n",
    "\n"
   ]
  },
  {
   "attachments": {},
   "cell_type": "markdown",
   "metadata": {},
   "source": [
    "# (0.2 points) Report Kahoot Score out of ten, and what resources you will be using to study lists/simulations/dictionaries further if you feel necessary.\n",
    "\n"
   ]
  },
  {
   "attachments": {},
   "cell_type": "markdown",
   "metadata": {},
   "source": [
    "# EXTRA 0.1 to get full 1/1 score for any simulation that is truly impressive (incorporates UI and thorough written description of your code and it's application to the real world. You will get this point if we believe that you have a genuine understanding of our lesson.\n"
   ]
  }
 ],
 "metadata": {
  "kernelspec": {
   "display_name": "Python 3",
   "language": "python",
   "name": "python3"
  },
  "language_info": {
   "codemirror_mode": {
    "name": "ipython",
    "version": 3
   },
   "file_extension": ".py",
   "mimetype": "text/x-python",
   "name": "python",
   "nbconvert_exporter": "python",
   "pygments_lexer": "ipython3",
   "version": "3.10.11"
  },
  "orig_nbformat": 4
 },
 "nbformat": 4,
 "nbformat_minor": 2
}
