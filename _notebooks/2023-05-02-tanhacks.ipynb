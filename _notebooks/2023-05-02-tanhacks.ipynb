{
 "cells": [
  {
   "attachments": {},
   "cell_type": "markdown",
   "metadata": {},
   "source": [
    "# Building Simulation/Interaction HACKS\n",
    "> Finishing all the Building Simulation/Interaction HACKS and doing the Extra Credit\n",
    "- toc: true \n",
    "- badges: true\n",
    "- comments: true\n",
    "- categories: [jupyter, week-28]"
   ]
  },
  {
   "attachments": {},
   "cell_type": "markdown",
   "metadata": {},
   "source": [
    "# (0.1 points) Create a visual or written description. Objective is to compare lists and dictionaries.\n",
    "\n"
   ]
  },
  {
   "attachments": {},
   "cell_type": "markdown",
   "metadata": {},
   "source": [
    "## Written Description to compare Lists and Dictionaries (With Code Example)\n",
    "\n",
    "Lists and dictionaries are two commonly used data structures in programming, each with their own unique characteristics and purposes.\n",
    "\n",
    "A list is an ordered collection of values or objects that can be accessed by their index, which is an integer starting from zero. Lists are mutable, which means their contents can be changed by adding, removing, or modifying elements. A list is typically represented by square brackets [] in Python.\n",
    "\n",
    "On the other hand, a dictionary is an unordered collection of key-value pairs, where each key is unique and maps to a value. Dictionaries are mutable and can be changed by adding, removing, or modifying key-value pairs. A dictionary is typically represented by curly braces {} in Python.\n",
    "\n",
    "To visualize the difference between lists and dictionaries, imagine a library. The books on the shelves can be thought of as a list, where each book is identified by its position in the list. In contrast, a librarian's catalog of the books can be thought of as a dictionary, where each book is identified by its unique call number.\n",
    "\n",
    "Here is an example in Python:"
   ]
  },
  {
   "cell_type": "code",
   "execution_count": 10,
   "metadata": {},
   "outputs": [
    {
     "name": "stdout",
     "output_type": "stream",
     "text": [
      "apple\n",
      "John\n"
     ]
    }
   ],
   "source": [
    "# Example of a list\n",
    "fruits = [\"apple\", \"banana\", \"cherry\"]\n",
    "print(fruits[0])   # Output: \"apple\"\n",
    "\n",
    "# Example of a dictionary\n",
    "person = {\"name\": \"John\", \"age\": 30, \"city\": \"New York\"}\n",
    "print(person[\"name\"])   # Output: \"John\""
   ]
  },
  {
   "attachments": {},
   "cell_type": "markdown",
   "metadata": {},
   "source": [
    "In the above example, fruits is a list with three elements, where \"apple\" is at index 0. person is a dictionary with three key-value pairs, where \"name\" maps to \"John\"."
   ]
  },
  {
   "attachments": {},
   "cell_type": "markdown",
   "metadata": {},
   "source": [
    "# (0.3 points) Create your own dictionary/list and use sorting algorithms to perform operations on them. (Use playlist maker as an example of what we expect ~ Make something creative and useful)\n",
    "\n"
   ]
  },
  {
   "attachments": {},
   "cell_type": "markdown",
   "metadata": {},
   "source": [
    "## Dictionary of NFL teams with their win-loss records and a List of players with their stats"
   ]
  },
  {
   "cell_type": "code",
   "execution_count": 4,
   "metadata": {},
   "outputs": [],
   "source": [
    "# Define a dictionary of NFL teams with their win-loss records\n",
    "nfl_teams = {\n",
    "    \"Arizona Cardinals\": [10, 7],\n",
    "    \"Atlanta Falcons\": [3, 14],\n",
    "    \"Baltimore Ravens\": [9, 8],\n",
    "    \"Buffalo Bills\": [11, 6],\n",
    "    \"Carolina Panthers\": [5, 12],\n",
    "    \"Chicago Bears\": [6, 11],\n",
    "    \"Cincinnati Bengals\": [10, 7],\n",
    "    \"Cleveland Browns\": [7, 10],\n",
    "    \"Dallas Cowboys\": [8, 9],\n",
    "    \"Denver Broncos\": [7, 10],\n",
    "    \"Detroit Lions\": [2, 15],\n",
    "    \"Green Bay Packers\": [13, 4],\n",
    "    \"Houston Texans\": [4, 13],\n",
    "    \"Indianapolis Colts\": [9, 8],\n",
    "    \"Jacksonville Jaguars\": [3, 14],\n",
    "    \"Kansas City Chiefs\": [12, 5],\n",
    "    \"Las Vegas Raiders\": [10, 7],\n",
    "    \"Los Angeles Chargers\": [9, 8],\n",
    "    \"Los Angeles Rams\": [12, 5],\n",
    "    \"Miami Dolphins\": [9, 8],\n",
    "    \"Minnesota Vikings\": [8, 9],\n",
    "    \"New England Patriots\": [10, 7],\n",
    "    \"New Orleans Saints\": [9, 8],\n",
    "    \"New York Giants\": [4, 13],\n",
    "    \"New York Jets\": [2, 15],\n",
    "    \"Philadelphia Eagles\": [9, 8],\n",
    "    \"Pittsburgh Steelers\": [9, 8],\n",
    "    \"San Francisco 49ers\": [10, 7],\n",
    "    \"Seattle Seahawks\": [7, 10],\n",
    "    \"Tampa Bay Buccaneers\": [13, 4],\n",
    "    \"Tennessee Titans\": [12, 5],\n",
    "    \"Washington Football Team\": [7, 10]\n",
    "}\n",
    "\n",
    "# Define a list of players with their stats\n",
    "nfl_players = [\n",
    "    {\"name\": \"Tom Brady\", \"team\": \"Tampa Bay Buccaneers\", \"position\": \"Quarterback\", \"passing yards\": 4657},\n",
    "    {\"name\": \"Patrick Mahomes\", \"team\": \"Kansas City Chiefs\", \"position\": \"Quarterback\", \"passing yards\": 5028},\n",
    "    {\"name\": \"Josh Allen\", \"team\": \"Buffalo Bills\", \"position\": \"Quarterback\", \"passing yards\": 4544},\n",
    "    {\"name\": \"Derrick Henry\", \"team\": \"Tennessee Titans\", \"position\": \"Running Back\", \"rushing yards\": 2027},\n",
    "    {\"name\": \"Stefon Diggs\", \"team\": \"Buffalo Bills\", \"position\": \"Wide Receiver\", \"receiving yards\": 1535},\n",
    "    {\"name\": \"Aaron Donald\", \"team\": \"Los Angeles Rams\", \"position\": \"Defensive Tackle\", \"sacks\": 13.5},\n",
    "    {\"name\": \"T.J. Watt\", \"team\": \"Pittsburgh Steelers\", \"position\": \"Outside Linebacker\", \"sacks\": 15},\n",
    "    {\"name\": \"Jalen Ramsey\", \"team\": \"Los Angeles Rams\", \"position\": \"Cornerback\", \"interceptions\": 3},\n",
    "    {\"name\": \"Justin Herbert\", \"team\": \"Los Angeles Chargers\", \"position\": \"Quarterback\", \"passing yards\": 5963},\n",
    "]"
   ]
  },
  {
   "attachments": {},
   "cell_type": "markdown",
   "metadata": {},
   "source": [
    "## Bubble Sort\n",
    "Bubble sort is a simple sorting algorithm that repeatedly swaps adjacent elements if they are in the wrong order. Here's an example of using bubble sort to sort the NFL teams by their win-loss records:"
   ]
  },
  {
   "cell_type": "code",
   "execution_count": 5,
   "metadata": {},
   "outputs": [
    {
     "name": "stdout",
     "output_type": "stream",
     "text": [
      "[('Green Bay Packers', [13, 4]), ('Tampa Bay Buccaneers', [13, 4]), ('Kansas City Chiefs', [12, 5]), ('Los Angeles Rams', [12, 5]), ('Tennessee Titans', [12, 5]), ('Buffalo Bills', [11, 6]), ('Arizona Cardinals', [10, 7]), ('Cincinnati Bengals', [10, 7]), ('Las Vegas Raiders', [10, 7]), ('New England Patriots', [10, 7]), ('San Francisco 49ers', [10, 7]), ('Baltimore Ravens', [9, 8]), ('Indianapolis Colts', [9, 8]), ('Los Angeles Chargers', [9, 8]), ('Miami Dolphins', [9, 8]), ('New Orleans Saints', [9, 8]), ('Philadelphia Eagles', [9, 8]), ('Pittsburgh Steelers', [9, 8]), ('Dallas Cowboys', [8, 9]), ('Minnesota Vikings', [8, 9]), ('Cleveland Browns', [7, 10]), ('Denver Broncos', [7, 10]), ('Seattle Seahawks', [7, 10]), ('Washington Football Team', [7, 10]), ('Chicago Bears', [6, 11]), ('Carolina Panthers', [5, 12]), ('Houston Texans', [4, 13]), ('New York Giants', [4, 13]), ('Atlanta Falcons', [3, 14]), ('Jacksonville Jaguars', [3, 14]), ('Detroit Lions', [2, 15]), ('New York Jets', [2, 15])]\n"
     ]
    }
   ],
   "source": [
    "# Sort the NFL teams by their win-loss records using bubble sort\n",
    "nfl_teams_list = list(nfl_teams.items())\n",
    "for i in range(len(nfl_teams_list)):\n",
    "    for j in range(len(nfl_teams_list) - i - 1):\n",
    "        if nfl_teams_list[j][1][0] < nfl_teams_list[j + 1][1][0]:\n",
    "            nfl_teams_list[j], nfl_teams_list[j + 1] = nfl_teams_list[j + 1], nfl_teams_list[j]\n",
    "\n",
    "print(nfl_teams_list)"
   ]
  },
  {
   "attachments": {},
   "cell_type": "markdown",
   "metadata": {},
   "source": [
    "## Merge Sort\n",
    "\n",
    "Merge sort is a divide-and-conquer sorting algorithm that divides an array into two halves, recursively sorts each half, and then merges the sorted halves back together. Here's an example of using merge sort to sort the NFL players by their passing yards:"
   ]
  },
  {
   "cell_type": "code",
   "execution_count": 8,
   "metadata": {},
   "outputs": [
    {
     "name": "stdout",
     "output_type": "stream",
     "text": [
      "[{'name': 'Stefon Diggs', 'team': 'Buffalo Bills', 'position': 'Wide Receiver', 'receiving yards': 1535}, {'name': 'Derrick Henry', 'team': 'Tennessee Titans', 'position': 'Running Back', 'rushing yards': 2027}, {'name': 'Justin Herbert', 'team': 'Los Angeles Chargers', 'position': 'Quarterback', 'passing yards': 5963}, {'name': 'Josh Allen', 'team': 'Buffalo Bills', 'position': 'Quarterback', 'passing yards': 4544}, {'name': 'Patrick Mahomes', 'team': 'Kansas City Chiefs', 'position': 'Quarterback', 'passing yards': 5028}, {'name': 'Tom Brady', 'team': 'Tampa Bay Buccaneers', 'position': 'Quarterback', 'passing yards': 4657}, {'name': 'T.J. Watt', 'team': 'Pittsburgh Steelers', 'position': 'Outside Linebacker', 'sacks': 15}, {'name': 'Aaron Donald', 'team': 'Los Angeles Rams', 'position': 'Defensive Tackle', 'sacks': 13.5}, {'name': 'Jalen Ramsey', 'team': 'Los Angeles Rams', 'position': 'Cornerback', 'interceptions': 3}]\n"
     ]
    }
   ],
   "source": [
    "# Sort the NFL players by their passing yards using merge sort\n",
    "def merge_sort(arr, key):\n",
    "    if len(arr) > 1:\n",
    "        mid = len(arr) // 2\n",
    "        left_half = arr[:mid]\n",
    "        right_half = arr[mid:]\n",
    "        \n",
    "        merge_sort(left_half, key)\n",
    "        merge_sort(right_half, key)\n",
    "        \n",
    "        i = j = k = 0\n",
    "        \n",
    "        while i < len(left_half) and j < len(right_half):\n",
    "            if left_half[i][key] > right_half[j][key]:\n",
    "                arr[k] = left_half[i]\n",
    "                i += 1\n",
    "            else:\n",
    "                arr[k] = right_half[j]\n",
    "                j += 1\n",
    "            k += 1\n",
    "            \n",
    "        while i < len(left_half):\n",
    "            arr[k] = left_half[i]\n",
    "            i += 1\n",
    "            k += 1\n",
    "            \n",
    "        while j < len(right_half):\n",
    "            arr[k] = right_half[j]\n",
    "            j += 1\n",
    "            k += 1\n",
    "\n",
    "merge_sort(nfl_players, \"position\")\n",
    "print(nfl_players)"
   ]
  },
  {
   "attachments": {},
   "cell_type": "markdown",
   "metadata": {},
   "source": [
    "## Quick Sort\n",
    "\n",
    "Quick sort is another divide-and-conquer sorting algorithm that works by partitioning an array into two sub-arrays based on a pivot element, and then recursively sorting the sub-arrays. Here's an example of using quick sort to sort the NFL teams by their win-loss records"
   ]
  },
  {
   "cell_type": "code",
   "execution_count": 9,
   "metadata": {},
   "outputs": [
    {
     "name": "stdout",
     "output_type": "stream",
     "text": [
      "[('Tampa Bay Buccaneers', [13, 4]), ('Green Bay Packers', [13, 4]), ('Tennessee Titans', [12, 5]), ('Los Angeles Rams', [12, 5]), ('Kansas City Chiefs', [12, 5]), ('Buffalo Bills', [11, 6]), ('Arizona Cardinals', [10, 7]), ('San Francisco 49ers', [10, 7]), ('Cincinnati Bengals', [10, 7]), ('Las Vegas Raiders', [10, 7]), ('New England Patriots', [10, 7]), ('Indianapolis Colts', [9, 8]), ('Miami Dolphins', [9, 8]), ('Baltimore Ravens', [9, 8]), ('Los Angeles Chargers', [9, 8]), ('New Orleans Saints', [9, 8]), ('Philadelphia Eagles', [9, 8]), ('Pittsburgh Steelers', [9, 8]), ('Minnesota Vikings', [8, 9]), ('Dallas Cowboys', [8, 9]), ('Washington Football Team', [7, 10]), ('Seattle Seahawks', [7, 10]), ('Cleveland Browns', [7, 10]), ('Denver Broncos', [7, 10]), ('Chicago Bears', [6, 11]), ('Carolina Panthers', [5, 12]), ('Houston Texans', [4, 13]), ('New York Giants', [4, 13]), ('Jacksonville Jaguars', [3, 14]), ('Atlanta Falcons', [3, 14]), ('New York Jets', [2, 15]), ('Detroit Lions', [2, 15])]\n"
     ]
    }
   ],
   "source": [
    "# Sort the NFL teams by their win-loss records using quick sort\n",
    "def quick_sort(arr, low, high):\n",
    "    if low < high:\n",
    "        pivot = arr[high][1][0]\n",
    "        i = low - 1\n",
    "        for j in range(low, high):\n",
    "            if arr[j][1][0] > pivot:\n",
    "                i += 1\n",
    "                arr[i], arr[j] = arr[j], arr[i]\n",
    "        i += 1\n",
    "        arr[i], arr[high] = arr[high], arr[i]\n",
    "        \n",
    "        quick_sort(arr, low, i - 1)\n",
    "        quick_sort(arr, i + 1, high)\n",
    "        \n",
    "nfl_teams_list = list(nfl_teams.items())\n",
    "quick_sort(nfl_teams_list, 0, len(nfl_teams_list) - 1)\n",
    "print(nfl_teams_list)"
   ]
  },
  {
   "attachments": {},
   "cell_type": "markdown",
   "metadata": {},
   "source": [
    "# (0.3 points) Build your own simulation such as a random number generator or slot machine (Try using a list!)\n",
    "\n"
   ]
  },
  {
   "attachments": {},
   "cell_type": "markdown",
   "metadata": {},
   "source": [
    "# (0.2 points) Report Kahoot Score out of ten, and what resources you will be using to study lists/simulations/dictionaries further if you feel necessary.\n",
    "\n"
   ]
  },
  {
   "attachments": {},
   "cell_type": "markdown",
   "metadata": {},
   "source": [
    "# EXTRA 0.1 to get full 1/1 score for any simulation that is truly impressive (incorporates UI and thorough written description of your code and it's application to the real world. You will get this point if we believe that you have a genuine understanding of our lesson.\n"
   ]
  }
 ],
 "metadata": {
  "kernelspec": {
   "display_name": "Python 3",
   "language": "python",
   "name": "python3"
  },
  "language_info": {
   "codemirror_mode": {
    "name": "ipython",
    "version": 3
   },
   "file_extension": ".py",
   "mimetype": "text/x-python",
   "name": "python",
   "nbconvert_exporter": "python",
   "pygments_lexer": "ipython3",
   "version": "3.10.11"
  },
  "orig_nbformat": 4
 },
 "nbformat": 4,
 "nbformat_minor": 2
}
