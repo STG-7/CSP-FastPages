{
 "cells": [
  {
   "attachments": {},
   "cell_type": "markdown",
   "metadata": {},
   "source": [
    "# Building Simulation/Interaction HACKS\n",
    "> Finishing all the Building Simulation/Interaction HACKS and doing the Extra Credit\n",
    "- toc: true \n",
    "- badges: true\n",
    "- comments: true\n",
    "- categories: [jupyter, week-28]"
   ]
  },
  {
   "attachments": {},
   "cell_type": "markdown",
   "metadata": {},
   "source": [
    "# (0.1 points) Create a visual or written description. Objective is to compare lists and dictionaries."
   ]
  },
  {
   "attachments": {},
   "cell_type": "markdown",
   "metadata": {},
   "source": [
    "# (0.3 points) Create your own dictionary/list and use sorting algorithms to perform operations on them. (Use playlist maker as an example of what we expect ~ Make something creative and useful)\n",
    "\n"
   ]
  },
  {
   "attachments": {},
   "cell_type": "markdown",
   "metadata": {},
   "source": [
    "# (0.3 points) Build your own simulation such as a random number generator or slot machine (Try using a list!)\n",
    "\n"
   ]
  },
  {
   "attachments": {},
   "cell_type": "markdown",
   "metadata": {},
   "source": [
    "# (0.2 points) Report Kahoot Score out of ten, and what resources you will be using to study lists/simulations/dictionaries further if you feel necessary.\n",
    "\n"
   ]
  },
  {
   "attachments": {},
   "cell_type": "markdown",
   "metadata": {},
   "source": [
    "# EXTRA 0.1 to get full 1/1 score for any simulation that is truly impressive (incorporates UI and thorough written description of your code and it's application to the real world. You will get this point if we believe that you have a genuine understanding of our lesson.\n"
   ]
  }
 ],
 "metadata": {
  "language_info": {
   "name": "python"
  },
  "orig_nbformat": 4
 },
 "nbformat": 4,
 "nbformat_minor": 2
}
